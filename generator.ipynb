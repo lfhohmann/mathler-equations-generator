{
 "cells": [
  {
   "cell_type": "markdown",
   "metadata": {},
   "source": [
    "### **Generating all possible solutions for [mathler](https://mathler) game** *([Wordle](https://www.nytimes.com/games/wordle/index.html)'s mathematic variant)*\n",
    "\n",
    "First of all, I thought this wouldn't be feasable, that the ammount of possible equations and results would be to large to compute. But I wanted to try it anyways, and it turns out, there aren't that many valid possible equations.\n",
    "\n",
    "Let's list the explicit rules for each possible solution:\n",
    "\n",
    "+ Each equation must be exactly 6 chars long *(each char is considered to be a single digit number or an operator)*\n",
    "+ Numbers and operators can appear more than once\n",
    "+ No leading zeros are allowed\n",
    "+ Calculations follow the order of operations **PEDMAS**\n",
    "    1. Parentheses\n",
    "    2. Exponents\n",
    "    3. Division or Multiplication\n",
    "    4. Addition or Subtraction\n",
    "\n",
    "We can also extrapolate some other rules based on the previous requirements:\n",
    "\n",
    "+ Equations can start with a `'-'` sign, but can't start with any other operator *(`'/','*','+'`)*\n",
    "+ Equations can't end with any of the operators *(`'/','*','+','-'`)*\n",
    "+ Only divisions that result in an integer are valid\n",
    "+ Divisions by zero are not allowed\n",
    "+ There can't be equations that are equal to the solution:\n",
    "  + 6 digit numbers\n",
    "  + 5 digit negative numbers"
   ]
  },
  {
   "cell_type": "code",
   "execution_count": 24,
   "metadata": {},
   "outputs": [],
   "source": [
    "from tqdm import tqdm\n",
    "import itertools\n",
    "import csv\n",
    "import re\n",
    "import os\n",
    "\n",
    "from solver import solve\n",
    "\n",
    "\n",
    "# Definining constants\n",
    "EQUATIONS_FILEPATH = \"data\\\\equations.csv\"\n",
    "ELEMENTS_PATTERN = [\n",
    "    \"1234567890-\",\n",
    "    \"1234567890/*+-\",\n",
    "    \"1234567890/*+-\",\n",
    "    \"1234567890/*+-\",\n",
    "    \"1234567890/*+-\",\n",
    "    \"1234567890\",\n",
    "]\n",
    "\n",
    "\n",
    "# Defining helper functions\n",
    "def print_preview(equations):\n",
    "    \"\"\"Print the first and last elements of a list and it's length\"\"\"\n",
    "\n",
    "    print(f\"First elements:\\t{equations[:5]}\")\n",
    "    print(f\"Last elements:\\t{equations[-5:]}\")\n",
    "    print(f\"Length:\\t\\t{len(equations):,}\")\n",
    "\n",
    "\n",
    "def write_csv(filepath, equations):\n",
    "    \"\"\"Writes rows to a csv file\"\"\"\n",
    "\n",
    "    if os.path.exists(filepath):\n",
    "        os.remove(filepath)\n",
    "\n",
    "    with open(filepath, \"a\", newline=\"\") as file:\n",
    "        writer = csv.writer(file)\n",
    "\n",
    "        for equation in tqdm(equations, desc=\"Writing equations to csv\"):\n",
    "            writer.writerow(equation)"
   ]
  },
  {
   "cell_type": "markdown",
   "metadata": {},
   "source": [
    "We will now generate all combinations of elements and convert them to `strings`"
   ]
  },
  {
   "cell_type": "code",
   "execution_count": 25,
   "metadata": {},
   "outputs": [
    {
     "name": "stderr",
     "output_type": "stream",
     "text": [
      "100%|██████████| 4225760/4225760 [00:01<00:00, 2654582.15it/s]\n"
     ]
    },
    {
     "name": "stdout",
     "output_type": "stream",
     "text": [
      "First elements:\t['111111', '111112', '111113', '111114', '111115']\n",
      "Last elements:\t['-----6', '-----7', '-----8', '-----9', '-----0']\n",
      "Length:\t\t4,225,760\n"
     ]
    }
   ],
   "source": [
    "# List of possible elements for each position of the equation\n",
    "equations = list(itertools.product(*ELEMENTS_PATTERN))\n",
    "\n",
    "# Convert equations to strings\n",
    "equations = list(map(lambda x: \"\".join(x), tqdm(equations)))\n",
    "\n",
    "# Print a preview\n",
    "print_preview(equations)"
   ]
  },
  {
   "cell_type": "markdown",
   "metadata": {},
   "source": [
    "Discard equations containing consecutive operators."
   ]
  },
  {
   "cell_type": "code",
   "execution_count": 26,
   "metadata": {},
   "outputs": [
    {
     "name": "stdout",
     "output_type": "stream",
     "text": [
      "111//1\n"
     ]
    },
    {
     "name": "stderr",
     "output_type": "stream",
     "text": [
      "100%|██████████| 4225760/4225760 [00:04<00:00, 1017667.12it/s]\n"
     ]
    },
    {
     "name": "stdout",
     "output_type": "stream",
     "text": [
      "First elements:\t['111111', '111112', '111113', '111114', '111115']\n",
      "Last elements:\t['-0-0-6', '-0-0-7', '-0-0-8', '-0-0-9', '-0-0-0']\n",
      "Length:\t\t3,316,000\n"
     ]
    }
   ],
   "source": [
    "# Defining the Regex pattern\n",
    "pattern = r\"[/,*,+,-][/,*,+,-]\"\n",
    "\n",
    "# Looking for the first occurance of the pattern\n",
    "for equation in equations:\n",
    "    if re.findall(pattern, equation):\n",
    "        print(equation)\n",
    "        break\n",
    "\n",
    "# Discard equations that contain the pattern\n",
    "equations = [x for x in tqdm(equations) if not re.findall(pattern, x)]\n",
    "\n",
    "# Print a preview\n",
    "print_preview(equations)"
   ]
  },
  {
   "cell_type": "markdown",
   "metadata": {},
   "source": [
    "Discard equations containing a single number *(6 digit positive numbers and 5 digit negative numbers)*."
   ]
  },
  {
   "cell_type": "code",
   "execution_count": 27,
   "metadata": {},
   "outputs": [
    {
     "name": "stdout",
     "output_type": "stream",
     "text": [
      "111111\n"
     ]
    },
    {
     "name": "stderr",
     "output_type": "stream",
     "text": [
      "100%|██████████| 3316000/3316000 [00:03<00:00, 887354.85it/s] \n"
     ]
    },
    {
     "name": "stdout",
     "output_type": "stream",
     "text": [
      "First elements:\t['1111/1', '1111/2', '1111/3', '1111/4', '1111/5']\n",
      "Last elements:\t['-0-0-6', '-0-0-7', '-0-0-8', '-0-0-9', '-0-0-0']\n",
      "Length:\t\t2,216,000\n"
     ]
    }
   ],
   "source": [
    "# Defining the Regex pattern\n",
    "pattern = r\"[0-9,-][0-9]{5}\"\n",
    "\n",
    "# Looking for the first occurance of the pattern\n",
    "for equation in equations:\n",
    "    if re.findall(pattern, equation):\n",
    "        print(equation)\n",
    "        break\n",
    "\n",
    "# Discard equations that contain the pattern\n",
    "equations = [x for x in tqdm(equations) if not re.findall(pattern, x)]\n",
    "\n",
    "# Print a preview\n",
    "print_preview(equations)"
   ]
  },
  {
   "cell_type": "markdown",
   "metadata": {},
   "source": [
    "Discard equations containing leading zeros."
   ]
  },
  {
   "cell_type": "code",
   "execution_count": 28,
   "metadata": {},
   "outputs": [
    {
     "name": "stdout",
     "output_type": "stream",
     "text": [
      "111/01\n"
     ]
    },
    {
     "name": "stderr",
     "output_type": "stream",
     "text": [
      "100%|██████████| 2216000/2216000 [00:02<00:00, 973635.10it/s] "
     ]
    },
    {
     "name": "stdout",
     "output_type": "stream",
     "text": [
      "First elements:\t['1111/1', '1111/2', '1111/3', '1111/4', '1111/5']\n",
      "Last elements:\t['-0-0-6', '-0-0-7', '-0-0-8', '-0-0-9', '-0-0-0']\n",
      "Length:\t\t1,711,600\n"
     ]
    },
    {
     "name": "stderr",
     "output_type": "stream",
     "text": [
      "\n"
     ]
    }
   ],
   "source": [
    "# Defining the Regex pattern\n",
    "pattern = r\"0\\d\"\n",
    "\n",
    "# Looking for the first occurance of the pattern\n",
    "for equation in equations:\n",
    "    if re.findall(pattern, equation):\n",
    "        print(equation)\n",
    "        break\n",
    "\n",
    "# Discard equations that contain the pattern\n",
    "equations = [x for x in tqdm(equations) if not re.findall(pattern, x)]\n",
    "\n",
    "# Print a preview\n",
    "print_preview(equations)"
   ]
  },
  {
   "cell_type": "markdown",
   "metadata": {},
   "source": [
    "Discard equations containing divisions by zero."
   ]
  },
  {
   "cell_type": "code",
   "execution_count": 29,
   "metadata": {},
   "outputs": [
    {
     "name": "stdout",
     "output_type": "stream",
     "text": [
      "1111/0\n"
     ]
    },
    {
     "name": "stderr",
     "output_type": "stream",
     "text": [
      "100%|██████████| 1711600/1711600 [00:01<00:00, 1036810.42it/s]"
     ]
    },
    {
     "name": "stdout",
     "output_type": "stream",
     "text": [
      "First elements:\t['1111/1', '1111/2', '1111/3', '1111/4', '1111/5']\n",
      "Last elements:\t['-0-0-6', '-0-0-7', '-0-0-8', '-0-0-9', '-0-0-0']\n",
      "Length:\t\t1,688,400\n"
     ]
    },
    {
     "name": "stderr",
     "output_type": "stream",
     "text": [
      "\n"
     ]
    }
   ],
   "source": [
    "# Defining the Regex pattern\n",
    "pattern = r\"/0\"\n",
    "\n",
    "# Looking for the first occurance of the pattern\n",
    "for equation in equations:\n",
    "    if re.findall(pattern, equation):\n",
    "        print(equation)\n",
    "        break\n",
    "\n",
    "# Discard equations that contain the pattern\n",
    "equations = [x for x in tqdm(equations) if not re.findall(pattern, x)]\n",
    "\n",
    "# Print a preview\n",
    "print_preview(equations)"
   ]
  },
  {
   "cell_type": "markdown",
   "metadata": {},
   "source": [
    "Discard equations that have invalid solutions. Then, sort by solution."
   ]
  },
  {
   "cell_type": "code",
   "execution_count": 30,
   "metadata": {},
   "outputs": [
    {
     "name": "stderr",
     "output_type": "stream",
     "text": [
      "100%|██████████| 1688400/1688400 [00:23<00:00, 73389.06it/s]\n"
     ]
    },
    {
     "name": "stdout",
     "output_type": "stream",
     "text": [
      "First elements:\t[('0-9999', -9999), ('1-9999', -9998), ('0-9998', -9998), ('1-9998', -9997), ('2-9999', -9997)]\n",
      "Last elements:\t[('99*997', 98703), ('998*99', 98802), ('99*998', 98802), ('999*99', 98901), ('99*999', 98901)]\n",
      "Length:\t\t1,240,278\n"
     ]
    }
   ],
   "source": [
    "temp = []\n",
    "\n",
    "for equation in tqdm(equations):\n",
    "    solution = solve(equation)\n",
    "\n",
    "    if solution:\n",
    "        temp.append((equation, solution))\n",
    "\n",
    "# Sort by solution\n",
    "equations = sorted(temp, key=lambda x: x[1])\n",
    "\n",
    "# Print a preview\n",
    "print_preview(equations)"
   ]
  },
  {
   "cell_type": "markdown",
   "metadata": {},
   "source": [
    "Check the generated equations against their solutions, making use of Python's built in function `eval()`."
   ]
  },
  {
   "cell_type": "code",
   "execution_count": 31,
   "metadata": {},
   "outputs": [
    {
     "name": "stderr",
     "output_type": "stream",
     "text": [
      "100%|██████████| 1240278/1240278 [00:10<00:00, 122293.68it/s]\n"
     ]
    }
   ],
   "source": [
    "for equation, solution in tqdm(equations):\n",
    "    if eval(equation) != solution:\n",
    "        print(f\"{equation} = {solution}\")\n",
    "        break"
   ]
  },
  {
   "cell_type": "markdown",
   "metadata": {},
   "source": [
    "Write equations and their solutions to a `.csv` file."
   ]
  },
  {
   "cell_type": "code",
   "execution_count": 32,
   "metadata": {},
   "outputs": [
    {
     "name": "stderr",
     "output_type": "stream",
     "text": [
      "Writing equations to csv: 100%|██████████| 1240278/1240278 [00:02<00:00, 448970.61it/s]\n"
     ]
    }
   ],
   "source": [
    "write_csv(EQUATIONS_FILEPATH, equations)"
   ]
  }
 ],
 "metadata": {
  "interpreter": {
   "hash": "2be5faf79681da6f2a61fdfdd5405d65d042280f7fba6178067603e3a2925119"
  },
  "kernelspec": {
   "display_name": "Python 3.10.1 64-bit",
   "language": "python",
   "name": "python3"
  },
  "language_info": {
   "codemirror_mode": {
    "name": "ipython",
    "version": 3
   },
   "file_extension": ".py",
   "mimetype": "text/x-python",
   "name": "python",
   "nbconvert_exporter": "python",
   "pygments_lexer": "ipython3",
   "version": "3.10.1"
  },
  "orig_nbformat": 4
 },
 "nbformat": 4,
 "nbformat_minor": 2
}
