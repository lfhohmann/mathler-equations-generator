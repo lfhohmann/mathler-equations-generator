{
 "cells": [
  {
   "cell_type": "markdown",
   "metadata": {},
   "source": [
    "### **Generating all possible solutions for [Mathler](https://mathler) game** *([Wordle](https://www.nytimes.com/games/wordle/index.html)'s mathematic variant)*\n",
    "\n",
    "First of all, I thought this wouldn't be feasable, that the ammount of possible equations and results would be to large to compute. But I wanted to try it anyways, and it turns out, there aren't that many valid possible equations.\n",
    "\n",
    "Let's list the explicit rules for each possible solution:\n",
    "+ Each equation must be exactly 6 chars long *(each char is considered to be a single digit number or an operator)*\n",
    "+ Numbers and operators can appear more than once\n",
    "+ No leading zeros are allowed\n",
    "+ Calculations follow the order of operations **PEDMAS**\n",
    "    1. Parentheses\n",
    "    2. Exponents\n",
    "    3. Division or Multiplication\n",
    "    4. Addition or Subtraction\n",
    "\n",
    "We can also extrapolate some other rules based on the previous requirements:\n",
    "\n",
    "+ Equations can start with a `'-'` sign, but can't start with any other operator *(`'/','*','+'`)*\n",
    "+ Equations can't end with any of the operators *(`'/','*','+','-'`)*\n",
    "+ Only divisions that result in an integer are valid\n",
    "+ Divisions by zero are not allowed\n",
    "+ There can't be equations that are equal to the solution:\n",
    "  + 6 digit numbers\n",
    "  + 5 digit negative numbers\n",
    "\n",
    "Besides all of that, there are 3 difficulty levels:\n",
    "\n",
    "+ **Easy Mathler** *(5 squares and 1 operator)*\n",
    "+ **Mathler** *(6 squares and 2 operators)*\n",
    "+ **Hard Mathler** *(8 squares and 3 operators)*"
   ]
  },
  {
   "cell_type": "code",
   "execution_count": 59,
   "metadata": {},
   "outputs": [],
   "source": [
    "from tqdm import tqdm\n",
    "import itertools\n",
    "import csv\n",
    "import re\n",
    "import os"
   ]
  },
  {
   "cell_type": "markdown",
   "metadata": {},
   "source": [
    "Defining constants:"
   ]
  },
  {
   "cell_type": "code",
   "execution_count": 60,
   "metadata": {},
   "outputs": [],
   "source": [
    "DIRPATH = \"data\" # The directory path for the output files\n",
    "\n",
    "NUMBERS = [\"1\", \"2\", \"3\", \"4\", \"5\", \"6\", \"7\", \"8\", \"9\", \"0\"]  # List of valid numbers\n",
    "OPERATORS = [\"/\", \"*\", \"+\", \"-\"] # List of valid operators\n",
    "NEGATIVE_OPERATORS = [\"-\"]  # '-' operator\n",
    "\n",
    "EMPTY_STRING = \"\"  # An empty string\n",
    "\n",
    "LEVELS = {  # Stores all off the levels of difficulty data\n",
    "    \"easy\": {\n",
    "        \"filepath\": \"equations_easy.csv\",\n",
    "        \"operators_count\": 1,\n",
    "        \"pattern\": [\n",
    "            [\"1\", \"2\", \"3\", \"4\", \"5\", \"6\", \"7\", \"8\", \"9\", \"0\", \"-\"],\n",
    "            [\"1\", \"2\", \"3\", \"4\", \"5\", \"6\", \"7\", \"8\", \"9\", \"0\", \"/\", \"*\", \"+\", \"-\"],\n",
    "            [\"1\", \"2\", \"3\", \"4\", \"5\", \"6\", \"7\", \"8\", \"9\", \"0\", \"/\", \"*\", \"+\", \"-\"],\n",
    "            [\"1\", \"2\", \"3\", \"4\", \"5\", \"6\", \"7\", \"8\", \"9\", \"0\", \"/\", \"*\", \"+\", \"-\"],\n",
    "            [\"1\", \"2\", \"3\", \"4\", \"5\", \"6\", \"7\", \"8\", \"9\", \"0\"],\n",
    "        ],\n",
    "    },\n",
    "    \"int\": {\n",
    "        \"filepath\": \"equations_int.csv\",\n",
    "        \"operators_count\": 2,\n",
    "        \"pattern\": [\n",
    "            [\"1\", \"2\", \"3\", \"4\", \"5\", \"6\", \"7\", \"8\", \"9\", \"0\", \"-\"],\n",
    "            [\"1\", \"2\", \"3\", \"4\", \"5\", \"6\", \"7\", \"8\", \"9\", \"0\", \"/\", \"*\", \"+\", \"-\"],\n",
    "            [\"1\", \"2\", \"3\", \"4\", \"5\", \"6\", \"7\", \"8\", \"9\", \"0\", \"/\", \"*\", \"+\", \"-\"],\n",
    "            [\"1\", \"2\", \"3\", \"4\", \"5\", \"6\", \"7\", \"8\", \"9\", \"0\", \"/\", \"*\", \"+\", \"-\"],\n",
    "            [\"1\", \"2\", \"3\", \"4\", \"5\", \"6\", \"7\", \"8\", \"9\", \"0\", \"/\", \"*\", \"+\", \"-\"],\n",
    "            [\"1\", \"2\", \"3\", \"4\", \"5\", \"6\", \"7\", \"8\", \"9\", \"0\"],\n",
    "        ],\n",
    "    },\n",
    "    \"hard\": {\n",
    "        \"filepath\": \"equations_hard.csv\",\n",
    "        \"operators_count\": 3,\n",
    "        \"pattern\": [\n",
    "            [\"1\", \"2\", \"3\", \"4\", \"5\", \"6\", \"7\", \"8\", \"9\", \"0\", \"-\"],\n",
    "            [\"1\", \"2\", \"3\", \"4\", \"5\", \"6\", \"7\", \"8\", \"9\", \"0\", \"/\", \"*\", \"+\", \"-\"],\n",
    "            [\"1\", \"2\", \"3\", \"4\", \"5\", \"6\", \"7\", \"8\", \"9\", \"0\", \"/\", \"*\", \"+\", \"-\"],\n",
    "            [\"1\", \"2\", \"3\", \"4\", \"5\", \"6\", \"7\", \"8\", \"9\", \"0\", \"/\", \"*\", \"+\", \"-\"],\n",
    "            [\"1\", \"2\", \"3\", \"4\", \"5\", \"6\", \"7\", \"8\", \"9\", \"0\", \"/\", \"*\", \"+\", \"-\"],\n",
    "            [\"1\", \"2\", \"3\", \"4\", \"5\", \"6\", \"7\", \"8\", \"9\", \"0\", \"/\", \"*\", \"+\", \"-\"],\n",
    "            [\"1\", \"2\", \"3\", \"4\", \"5\", \"6\", \"7\", \"8\", \"9\", \"0\", \"/\", \"*\", \"+\", \"-\"],\n",
    "            [\"1\", \"2\", \"3\", \"4\", \"5\", \"6\", \"7\", \"8\", \"9\", \"0\"],\n",
    "        ],\n",
    "    },\n",
    "}"
   ]
  },
  {
   "cell_type": "markdown",
   "metadata": {},
   "source": [
    "Defining helper functions:"
   ]
  },
  {
   "cell_type": "code",
   "execution_count": 61,
   "metadata": {},
   "outputs": [],
   "source": [
    "def delete_csv(filepath):\n",
    "    \"\"\"Deletes a csv file\"\"\"\n",
    "\n",
    "    if os.path.exists(filepath):\n",
    "        os.remove(filepath)\n",
    "\n",
    "\n",
    "def append_csv(filepath, row):\n",
    "    \"\"\"Appends a row to a csv file\"\"\"\n",
    "\n",
    "    with open(filepath, \"a\", newline=\"\") as file:\n",
    "        csv.writer(file).writerow(row)"
   ]
  },
  {
   "cell_type": "markdown",
   "metadata": {},
   "source": [
    "Defining the equation solver function:"
   ]
  },
  {
   "cell_type": "code",
   "execution_count": 62,
   "metadata": {},
   "outputs": [],
   "source": [
    "def solve(input_equation):\n",
    "    \"\"\"Solves an equation passed as a string\"\"\"\n",
    "\n",
    "    # Join all consecutive numbers\n",
    "    equation = []\n",
    "    temp = EMPTY_STRING\n",
    "\n",
    "    for char in input_equation:\n",
    "        if char in NUMBERS:\n",
    "            temp += char\n",
    "\n",
    "        else:\n",
    "            if temp != EMPTY_STRING:\n",
    "                equation.append(temp)\n",
    "\n",
    "            equation.append(char)\n",
    "            temp = EMPTY_STRING\n",
    "\n",
    "    equation.append(temp)\n",
    "\n",
    "    # If first element is a negative operator, join it to the next element (number)\n",
    "    if equation[0] == NEGATIVE_OPERATORS[0]:\n",
    "        equation[1] = f\"{NEGATIVE_OPERATORS[0]}{equation[1]}\"\n",
    "        equation.pop(0)\n",
    "\n",
    "    # Perform all operations (following the operators order - PEDMAS)\n",
    "    for i in range(0, 3, 2):\n",
    "        operators = OPERATORS[i : i + 2]\n",
    "\n",
    "        while operators[0] in equation or operators[1] in equation:\n",
    "            for j, _ in enumerate(equation):\n",
    "\n",
    "                if equation[j] in operators:\n",
    "                    operator = equation[j]\n",
    "\n",
    "                    result = eval(f\"{equation[j - 1]}{operator}{equation[j + 1]}\")\n",
    "\n",
    "                    if result != int(result):\n",
    "                        return None\n",
    "\n",
    "                    equation[j - 1] = int(result)\n",
    "\n",
    "                    for _ in range(2):\n",
    "                        equation.pop(j)\n",
    "\n",
    "                    break\n",
    "\n",
    "    # Return equations first element\n",
    "    return equation[0]"
   ]
  },
  {
   "cell_type": "markdown",
   "metadata": {},
   "source": [
    "Testing the solver:"
   ]
  },
  {
   "cell_type": "code",
   "execution_count": 63,
   "metadata": {},
   "outputs": [],
   "source": [
    "# Define test cases\n",
    "test_equations = [\n",
    "    (\"-3+4/2\", -1),\n",
    "    (\"-3*4/2\", -6),\n",
    "    (\"-10+10\", 0),\n",
    "    (\"10-1-9\", 0),\n",
    "    (\"40/4/2\", 5),\n",
    "    (\"1+2+30\", 33),\n",
    "    (\"3+21/3\", 10),\n",
    "    (\"40/4+2\", 12),\n",
    "    (\"16+4*2\", 24),\n",
    "    (\"2/1*40\", 80),\n",
    "    (\"1+2/30\", None),\n",
    "    (\"2/3*10\", None),\n",
    "]\n",
    "\n",
    "# Iterate over equations and check if they are solved correctly\n",
    "for equation, solution in test_equations:\n",
    "    assert solve(equation) == solution, f\"{equation} should be {solution}\""
   ]
  },
  {
   "cell_type": "markdown",
   "metadata": {},
   "source": [
    "Defining the function that generates all of the valid equations for a given difficulty level:"
   ]
  },
  {
   "cell_type": "code",
   "execution_count": 64,
   "metadata": {},
   "outputs": [],
   "source": [
    "def gen_equations(difficulty, levels, dirpath):\n",
    "    \"\"\"Generates all valid equations for the game\"\"\"\n",
    "\n",
    "    # Extract variables and store them\n",
    "    operators_count=levels[difficulty][\"operators_count\"]\n",
    "    filepath = f\"{dirpath}\\\\{levels[difficulty]['filepath']}\"\n",
    "    pattern=levels[difficulty][\"pattern\"]\n",
    "\n",
    "    # Calculate total number of candidate equations\n",
    "    candidates_count = 1\n",
    "\n",
    "    for subpattern in pattern:\n",
    "        candidates_count *= len(subpattern)\n",
    "\n",
    "    # Combinations of elements for each position of the equation\n",
    "    equations = itertools.product(*pattern)\n",
    "\n",
    "    # Delete previous csv file\n",
    "    delete_csv(filepath)\n",
    "\n",
    "    # Iterate over each equation\n",
    "    for equations in tqdm(equations, total=candidates_count):\n",
    "\n",
    "        # Convert equation to a single string\n",
    "        equation = \"\".join(equations)\n",
    "\n",
    "        # Count number of operators in an equation\n",
    "        counter = 0\n",
    "        for char in equation:\n",
    "            if char in OPERATORS:\n",
    "                counter += 1\n",
    "\n",
    "        if equation[0] == NEGATIVE_OPERATORS[0]:\n",
    "            counter -= 1\n",
    "\n",
    "        if counter != operators_count:\n",
    "            continue\n",
    "        \n",
    "        # Discard equations containing consecutive operators\n",
    "        if re.findall(r\"[/,*,+,-][/,*,+,-]\", equation):\n",
    "            continue\n",
    "        \n",
    "        # Discard equations containing leading zeros\n",
    "        if re.findall(r\"0\\d\", equation):\n",
    "            continue\n",
    "\n",
    "        # Discard equations containing leading zeros\n",
    "        if re.findall(r\"/0\", equation):\n",
    "            continue\n",
    "\n",
    "        # Solve the equation\n",
    "        solution = solve(equation)\n",
    "\n",
    "        # Discard equations with invalid solutions\n",
    "        if not solution:\n",
    "            continue\n",
    "\n",
    "        # Discard equations that are equal to it's solution\n",
    "        if equation == solution:\n",
    "            continue\n",
    "        \n",
    "        # Check if the solution matches the equation using 'eval()'\n",
    "        if eval(equation) != solution:\n",
    "            print(f\"The equation is different then the eval() solution: {equation} != {solution}\")\n",
    "            break\n",
    "\n",
    "        # Append equation to csv file\n",
    "        append_csv(filepath, [equation, solution])"
   ]
  },
  {
   "cell_type": "markdown",
   "metadata": {},
   "source": [
    "Generating all valid equations for the easy difficulty level:"
   ]
  },
  {
   "cell_type": "code",
   "execution_count": 65,
   "metadata": {},
   "outputs": [
    {
     "name": "stderr",
     "output_type": "stream",
     "text": [
      "100%|██████████| 301840/301840 [00:30<00:00, 9802.92it/s] \n"
     ]
    }
   ],
   "source": [
    "gen_equations(\"easy\", LEVELS, DIRPATH)"
   ]
  },
  {
   "cell_type": "markdown",
   "metadata": {},
   "source": [
    "Generating all valid equations for the intermediate difficulty level:"
   ]
  },
  {
   "cell_type": "code",
   "execution_count": 66,
   "metadata": {},
   "outputs": [
    {
     "name": "stderr",
     "output_type": "stream",
     "text": [
      "100%|██████████| 4225760/4225760 [02:24<00:00, 29170.28it/s] \n"
     ]
    }
   ],
   "source": [
    "gen_equations(\"int\", LEVELS, DIRPATH)"
   ]
  },
  {
   "cell_type": "markdown",
   "metadata": {},
   "source": [
    "Generating all valid equations for the hard difficulty level:"
   ]
  },
  {
   "cell_type": "code",
   "execution_count": 68,
   "metadata": {},
   "outputs": [
    {
     "ename": "PermissionError",
     "evalue": "[WinError 32] The process cannot access the file because it is being used by another process: 'data\\\\equations_hard.csv'",
     "output_type": "error",
     "traceback": [
      "\u001b[1;31m---------------------------------------------------------------------------\u001b[0m",
      "\u001b[1;31mPermissionError\u001b[0m                           Traceback (most recent call last)",
      "Input \u001b[1;32mIn [68]\u001b[0m, in \u001b[0;36m<module>\u001b[1;34m\u001b[0m\n\u001b[1;32m----> 1\u001b[0m gen_equations(\u001b[39m\"\u001b[39;49m\u001b[39mhard\u001b[39;49m\u001b[39m\"\u001b[39;49m, LEVELS, DIRPATH)\n",
      "Input \u001b[1;32mIn [64]\u001b[0m, in \u001b[0;36mgen_equations\u001b[1;34m(difficulty, levels, dirpath)\u001b[0m\n\u001b[0;32m     16\u001b[0m equations \u001b[39m=\u001b[39m itertools\u001b[39m.\u001b[39mproduct(\u001b[39m*\u001b[39mpattern)\n\u001b[0;32m     18\u001b[0m \u001b[39m# Delete previous csv file\u001b[39;00m\n\u001b[1;32m---> 19\u001b[0m delete_csv(filepath)\n\u001b[0;32m     21\u001b[0m \u001b[39m# Iterate over each equation\u001b[39;00m\n\u001b[0;32m     22\u001b[0m \u001b[39mfor\u001b[39;00m equations \u001b[39min\u001b[39;00m tqdm(equations, total\u001b[39m=\u001b[39mcandidates_count):\n\u001b[0;32m     23\u001b[0m \n\u001b[0;32m     24\u001b[0m     \u001b[39m# Convert equation to a single string\u001b[39;00m\n",
      "\u001b[1;32mc:\\.lfhohmann\\dev\\_github\\mathler-equations-generator\\generator.ipynb Cell 18'\u001b[0m in \u001b[0;36mdelete_csv\u001b[1;34m(filepath)\u001b[0m\n\u001b[0;32m      <a href='vscode-notebook-cell:/c%3A/.lfhohmann/dev/_github/mathler-equations-generator/generator.ipynb#ch0000014?line=1'>2</a>\u001b[0m \u001b[39m\"\"\"Deletes a csv file\"\"\"\u001b[39;00m\n\u001b[0;32m      <a href='vscode-notebook-cell:/c%3A/.lfhohmann/dev/_github/mathler-equations-generator/generator.ipynb#ch0000014?line=3'>4</a>\u001b[0m \u001b[39mif\u001b[39;00m os\u001b[39m.\u001b[39mpath\u001b[39m.\u001b[39mexists(filepath):\n\u001b[1;32m----> <a href='vscode-notebook-cell:/c%3A/.lfhohmann/dev/_github/mathler-equations-generator/generator.ipynb#ch0000014?line=4'>5</a>\u001b[0m     os\u001b[39m.\u001b[39;49mremove(filepath)\n",
      "\u001b[1;31mPermissionError\u001b[0m: [WinError 32] The process cannot access the file because it is being used by another process: 'data\\\\equations_hard.csv'"
     ]
    }
   ],
   "source": [
    "gen_equations(\"hard\", LEVELS, DIRPATH)"
   ]
  }
 ],
 "metadata": {
  "interpreter": {
   "hash": "2be5faf79681da6f2a61fdfdd5405d65d042280f7fba6178067603e3a2925119"
  },
  "kernelspec": {
   "display_name": "Python 3.10.1 64-bit",
   "language": "python",
   "name": "python3"
  },
  "language_info": {
   "codemirror_mode": {
    "name": "ipython",
    "version": 3
   },
   "file_extension": ".py",
   "mimetype": "text/x-python",
   "name": "python",
   "nbconvert_exporter": "python",
   "pygments_lexer": "ipython3",
   "version": "3.10.1"
  },
  "orig_nbformat": 4
 },
 "nbformat": 4,
 "nbformat_minor": 2
}
