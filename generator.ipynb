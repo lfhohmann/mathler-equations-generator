{
 "cells": [
  {
   "cell_type": "markdown",
   "metadata": {},
   "source": [
    "### **Generating all possible solutions for [mathler](https://mathler) game** *([Wordle](https://www.nytimes.com/games/wordle/index.html)'s mathematic variant)*\n",
    "\n",
    "First of all, I thought this wouldn't be feasable, that the ammount of possible equations and results would be to large to compute. But I wanted to try it anyways, and it turns out, there aren't that many valid possible equations.\n",
    "\n",
    "Let's list the explicit rules for each possible solution:\n",
    "\n",
    "+ Each equation must be exactly 6 chars long *(each char is considered to be a single digit number or an operator)*\n",
    "+ Numbers and operators can appear more than once\n",
    "+ No leading zeros are allowed\n",
    "+ Calculations follow the order of operations **PEDMAS**\n",
    "    1. Parentheses\n",
    "    2. Exponents\n",
    "    3. Division or Multiplication\n",
    "    4. Addition or Subtraction\n",
    "\n",
    "We can also extrapolate some other rules based on the previous requirements:\n",
    "\n",
    "+ Equations can start with a `'-'` sign, but can't start with any other operator *(`'/','*','+'`)*\n",
    "+ Equations can't end with any of the operators *(`'/','*','+','-'`)*\n",
    "+ Only divisions that result in an integer are valid\n",
    "+ Divisions by zero are not allowed\n",
    "+ There can't be equations that are equal to the solution:\n",
    "  + 6 digit numbers\n",
    "  + 5 digit negative numbers\n",
    "\n",
    "Besides all of that, there are 3 difficulty levels:\n",
    "\n",
    "+ **Easy Mathler** *(5 squares and 1 operator)*\n",
    "+ **Mathler** *(6 squares and 2 operators)*\n",
    "+ **Hard Mathler** *(8 squares and 3 operators)*\n",
    "  \n",
    "#### Let's start with the **Easy Mathler** level:"
   ]
  },
  {
   "cell_type": "code",
   "execution_count": 90,
   "metadata": {},
   "outputs": [],
   "source": [
    "from tqdm import tqdm\n",
    "import itertools\n",
    "import random\n",
    "import csv\n",
    "import re\n",
    "import os\n",
    "\n",
    "# Import both the solver.py helper script and the constants\n",
    "from solver import solve\n",
    "from const import *\n",
    "\n",
    "# TODO: Get CWD\n",
    "\n",
    "# Defining constants\n",
    "LEVELS = {\n",
    "    \"easy\": {\n",
    "        \"filepath\": \"data\\\\equations_easy.csv\",\n",
    "        \"number_of_operators\": 1,\n",
    "        \"number_of_chars\": 5,\n",
    "    },\n",
    "    \"int\": {\n",
    "        \"filepath\": \"data\\\\equations_int.csv\",\n",
    "        \"number_of_operators\": 2,\n",
    "        \"number_of_chars\": 6,\n",
    "    },\n",
    "    \"hard\": {\n",
    "        \"filepath\": \"data\\\\equations_hard.csv\",\n",
    "        \"number_of_operators\": 8,\n",
    "        \"number_of_chars\": 3,\n",
    "    },\n",
    "}\n",
    "\n",
    "DIFFICULTY = \"easy\"\n",
    "# DIFFICULTY = \"int\"\n",
    "# DIFFICULTY = \"hard\"\n",
    "\n",
    "EQUATIONS_FILEPATH = LEVELS[DIFFICULTY][\"filepath\"]\n",
    "NUMBER_OF_OPERATORS = LEVELS[DIFFICULTY][\"number_of_operators\"]\n",
    "NUMBER_OF_CHARS = LEVELS[DIFFICULTY][\"number_of_chars\"]\n",
    "\n",
    "CHARS_PATTERN = [NUMBERS + OPERATORS] * NUMBER_OF_CHARS\n",
    "\n",
    "# Defining helper functions\n",
    "def print_preview(equations):\n",
    "    \"\"\"Print the first and last elements of a list and it's length\"\"\"\n",
    "\n",
    "    print(f\"First elements:\\t{equations[:5]}\")\n",
    "    print(f\"Random elements:{random.choices(equations, k=5)}\")\n",
    "    print(f\"Last elements:\\t{equations[-5:]}\")\n",
    "    print(f\"Length:\\t\\t{len(equations):,}\")\n",
    "\n",
    "\n",
    "def write_csv(filepath, equations):\n",
    "    \"\"\"Writes rows to a csv file\"\"\"\n",
    "\n",
    "    # Remove any previous file, if it exists\n",
    "    if os.path.exists(filepath):\n",
    "        os.remove(filepath)\n",
    "\n",
    "    # Write equations to file\n",
    "    with open(filepath, \"a\", newline=\"\") as file:\n",
    "        writer = csv.writer(file)\n",
    "\n",
    "        # Iterate over equations and write each row\n",
    "        for equation in tqdm(equations, desc=\"Writing equations to csv\"):\n",
    "            writer.writerow(equation)"
   ]
  },
  {
   "cell_type": "markdown",
   "metadata": {},
   "source": [
    "We will now generate all combinations of elements and convert each of them to a `string`"
   ]
  },
  {
   "cell_type": "code",
   "execution_count": 91,
   "metadata": {},
   "outputs": [
    {
     "name": "stderr",
     "output_type": "stream",
     "text": [
      "100%|██████████| 537824/537824 [00:00<00:00, 2444611.84it/s]"
     ]
    },
    {
     "name": "stdout",
     "output_type": "stream",
     "text": [
      "First elements:\t['11111', '11112', '11113', '11114', '11115']\n",
      "Random elements:['63681', '46-**', '813/3', '33961', '742/9']\n",
      "Last elements:\t['----0', '----/', '----*', '----+', '-----']\n",
      "Length:\t\t537,824\n"
     ]
    },
    {
     "name": "stderr",
     "output_type": "stream",
     "text": [
      "\n"
     ]
    }
   ],
   "source": [
    "# List of possible elements for each position of the equation\n",
    "equations = list(itertools.product(*CHARS_PATTERN))\n",
    "\n",
    "# Convert equations to strings\n",
    "equations = list(map(lambda x: \"\".join(x), tqdm(equations)))\n",
    "\n",
    "# Print a preview\n",
    "print_preview(equations)"
   ]
  },
  {
   "cell_type": "markdown",
   "metadata": {},
   "source": [
    "Discard equations without the exact number of specified operators."
   ]
  },
  {
   "cell_type": "code",
   "execution_count": 92,
   "metadata": {},
   "outputs": [
    {
     "name": "stderr",
     "output_type": "stream",
     "text": [
      "100%|██████████| 537824/537824 [00:00<00:00, 923939.87it/s]"
     ]
    },
    {
     "name": "stdout",
     "output_type": "stream",
     "text": [
      "First elements:\t['1111/', '1111*', '1111+', '1111-', '1112/']\n",
      "Random elements:['068+1', '/9891', '703+1', '145/2', '121/8']\n",
      "Last elements:\t['--006', '--007', '--008', '--009', '--000']\n",
      "Length:\t\t206,000\n"
     ]
    },
    {
     "name": "stderr",
     "output_type": "stream",
     "text": [
      "\n"
     ]
    }
   ],
   "source": [
    "# Create a temporary list\n",
    "temp = []\n",
    "\n",
    "# Iterate over equations\n",
    "for equation in tqdm(equations):\n",
    "    counter = 0\n",
    "\n",
    "    # Iterate over each character in the equation\n",
    "    for char in equation:\n",
    "\n",
    "        # If the character is an operator, increment the counter\n",
    "        if char in OPERATORS:\n",
    "            counter += 1\n",
    "    \n",
    "    # If the first character is a negative operator, decrement the counter\n",
    "    if equation[0] == NEGATIVE_OPERATORS[0]:\n",
    "        counter -= 1\n",
    "\n",
    "    # If the counter is equal to the number of operators, add the equation to the temporary list\n",
    "    if counter == NUMBER_OF_OPERATORS:\n",
    "        temp.append(equation)\n",
    "\n",
    "# Copy the temporary list to the equations list\n",
    "equations = temp.copy()\n",
    "\n",
    "# Print a preview\n",
    "print_preview(equations)"
   ]
  },
  {
   "cell_type": "markdown",
   "metadata": {},
   "source": [
    "Discard equations containing consecutive operators."
   ]
  },
  {
   "cell_type": "code",
   "execution_count": 93,
   "metadata": {},
   "outputs": [
    {
     "name": "stdout",
     "output_type": "stream",
     "text": [
      "-/111\n"
     ]
    },
    {
     "name": "stderr",
     "output_type": "stream",
     "text": [
      "100%|██████████| 206000/206000 [00:00<00:00, 1089807.49it/s]"
     ]
    },
    {
     "name": "stdout",
     "output_type": "stream",
     "text": [
      "First elements:\t['1111/', '1111*', '1111+', '1111-', '1112/']\n",
      "Random elements:['+9834', '484+9', '4/055', '+2852', '7152-']\n",
      "Last elements:\t['-0-06', '-0-07', '-0-08', '-0-09', '-0-00']\n",
      "Length:\t\t202,000\n"
     ]
    },
    {
     "name": "stderr",
     "output_type": "stream",
     "text": [
      "\n"
     ]
    }
   ],
   "source": [
    "# Defining the Regex pattern\n",
    "pattern = r\"[/,*,+,-][/,*,+,-]\"\n",
    "\n",
    "# Looking for the first occurance of the pattern\n",
    "for equation in equations:\n",
    "    if re.findall(pattern, equation):\n",
    "        print(equation)\n",
    "        break\n",
    "\n",
    "# Discard equations that contain the pattern\n",
    "equations = [x for x in tqdm(equations) if not re.findall(pattern, x)]\n",
    "\n",
    "# Print a preview\n",
    "print_preview(equations)"
   ]
  },
  {
   "cell_type": "markdown",
   "metadata": {},
   "source": [
    "Discard equations starting with an operator."
   ]
  },
  {
   "cell_type": "code",
   "execution_count": 94,
   "metadata": {},
   "outputs": [
    {
     "name": "stdout",
     "output_type": "stream",
     "text": [
      "/1111\n"
     ]
    },
    {
     "name": "stderr",
     "output_type": "stream",
     "text": [
      "100%|██████████| 202000/202000 [00:00<00:00, 1002423.57it/s]"
     ]
    },
    {
     "name": "stdout",
     "output_type": "stream",
     "text": [
      "First elements:\t['1111/', '1111*', '1111+', '1111-', '1112/']\n",
      "Random elements:['3440+', '5925/', '51+78', '4*583', '-9*26']\n",
      "Last elements:\t['-0-06', '-0-07', '-0-08', '-0-09', '-0-00']\n",
      "Length:\t\t172,000\n"
     ]
    },
    {
     "name": "stderr",
     "output_type": "stream",
     "text": [
      "\n"
     ]
    }
   ],
   "source": [
    "# Defining the Regex pattern\n",
    "pattern = r\"^[/,*,+]\"\n",
    "\n",
    "# Looking for the first occurance of the pattern\n",
    "for equation in equations:\n",
    "    if re.findall(pattern, equation):\n",
    "        print(equation)\n",
    "        break\n",
    "\n",
    "# Discard equations that contain the pattern\n",
    "equations = [x for x in tqdm(equations) if not re.findall(pattern, x)]\n",
    "\n",
    "# Print a preview\n",
    "print_preview(equations)"
   ]
  },
  {
   "cell_type": "markdown",
   "metadata": {},
   "source": [
    "Discard equations ending with an operator."
   ]
  },
  {
   "cell_type": "code",
   "execution_count": 95,
   "metadata": {},
   "outputs": [
    {
     "name": "stdout",
     "output_type": "stream",
     "text": [
      "1111/\n"
     ]
    },
    {
     "name": "stderr",
     "output_type": "stream",
     "text": [
      "100%|██████████| 172000/172000 [00:00<00:00, 959833.28it/s]"
     ]
    },
    {
     "name": "stdout",
     "output_type": "stream",
     "text": [
      "First elements:\t['111/1', '111/2', '111/3', '111/4', '111/5']\n",
      "Random elements:['055/3', '-66-7', '455+9', '492+3', '24+86']\n",
      "Last elements:\t['-0-06', '-0-07', '-0-08', '-0-09', '-0-00']\n",
      "Length:\t\t128,000\n"
     ]
    },
    {
     "name": "stderr",
     "output_type": "stream",
     "text": [
      "\n"
     ]
    }
   ],
   "source": [
    "# Defining the Regex pattern\n",
    "pattern = r\"[/,*,+,-]$\"\n",
    "\n",
    "# Looking for the first occurance of the pattern\n",
    "for equation in equations:\n",
    "    if re.findall(pattern, equation):\n",
    "        print(equation)\n",
    "        break\n",
    "\n",
    "# Discard equations that contain the pattern\n",
    "equations = [x for x in tqdm(equations) if not re.findall(pattern, x)]\n",
    "\n",
    "# Print a preview\n",
    "print_preview(equations)"
   ]
  },
  {
   "cell_type": "markdown",
   "metadata": {},
   "source": [
    "Discard equations containing a single number *(6 digit positive numbers and 5 digit negative numbers)*."
   ]
  },
  {
   "cell_type": "code",
   "execution_count": 96,
   "metadata": {},
   "outputs": [
    {
     "name": "stderr",
     "output_type": "stream",
     "text": [
      "100%|██████████| 128000/128000 [00:00<00:00, 1132971.30it/s]"
     ]
    },
    {
     "name": "stdout",
     "output_type": "stream",
     "text": [
      "First elements:\t['111/1', '111/2', '111/3', '111/4', '111/5']\n",
      "Random elements:['15*18', '065+5', '179*5', '8*653', '4*688']\n",
      "Last elements:\t['-0-06', '-0-07', '-0-08', '-0-09', '-0-00']\n",
      "Length:\t\t128,000\n"
     ]
    },
    {
     "name": "stderr",
     "output_type": "stream",
     "text": [
      "\n"
     ]
    }
   ],
   "source": [
    "# Defining the Regex pattern\n",
    "pattern = r\"[0-9,-][0-9]{5}\"\n",
    "\n",
    "# Looking for the first occurance of the pattern\n",
    "for equation in equations:\n",
    "    if re.findall(pattern, equation):\n",
    "        print(equation)\n",
    "        break\n",
    "\n",
    "# Discard equations that contain the pattern\n",
    "equations = [x for x in tqdm(equations) if not re.findall(pattern, x)]\n",
    "\n",
    "# Print a preview\n",
    "print_preview(equations)"
   ]
  },
  {
   "cell_type": "markdown",
   "metadata": {},
   "source": [
    "Discard equations containing leading zeros."
   ]
  },
  {
   "cell_type": "code",
   "execution_count": 97,
   "metadata": {},
   "outputs": [
    {
     "name": "stdout",
     "output_type": "stream",
     "text": [
      "11/01\n"
     ]
    },
    {
     "name": "stderr",
     "output_type": "stream",
     "text": [
      "100%|██████████| 128000/128000 [00:00<00:00, 946685.30it/s]"
     ]
    },
    {
     "name": "stdout",
     "output_type": "stream",
     "text": [
      "First elements:\t['111/1', '111/2', '111/3', '111/4', '111/5']\n",
      "Random elements:['521*7', '685/5', '4*428', '48*91', '-8/59']\n",
      "Last elements:\t['-0-96', '-0-97', '-0-98', '-0-99', '-0-90']\n",
      "Length:\t\t104,400\n"
     ]
    },
    {
     "name": "stderr",
     "output_type": "stream",
     "text": [
      "\n"
     ]
    }
   ],
   "source": [
    "# Defining the Regex pattern\n",
    "pattern = r\"0\\d\"\n",
    "\n",
    "# Looking for the first occurance of the pattern\n",
    "for equation in equations:\n",
    "    if re.findall(pattern, equation):\n",
    "        print(equation)\n",
    "        break\n",
    "\n",
    "# Discard equations that contain the pattern\n",
    "equations = [x for x in tqdm(equations) if not re.findall(pattern, x)]\n",
    "\n",
    "# Print a preview\n",
    "print_preview(equations)"
   ]
  },
  {
   "cell_type": "markdown",
   "metadata": {},
   "source": [
    "Discard equations containing divisions by zero."
   ]
  },
  {
   "cell_type": "code",
   "execution_count": 98,
   "metadata": {},
   "outputs": [
    {
     "name": "stdout",
     "output_type": "stream",
     "text": [
      "111/0\n"
     ]
    },
    {
     "name": "stderr",
     "output_type": "stream",
     "text": [
      "100%|██████████| 104400/104400 [00:00<00:00, 1085484.02it/s]"
     ]
    },
    {
     "name": "stdout",
     "output_type": "stream",
     "text": [
      "First elements:\t['111/1', '111/2', '111/3', '111/4', '111/5']\n",
      "Random elements:['735-6', '4+123', '897+0', '758/8', '92+98']\n",
      "Last elements:\t['-0-96', '-0-97', '-0-98', '-0-99', '-0-90']\n",
      "Length:\t\t103,500\n"
     ]
    },
    {
     "name": "stderr",
     "output_type": "stream",
     "text": [
      "\n"
     ]
    }
   ],
   "source": [
    "# Defining the Regex pattern\n",
    "pattern = r\"/0\"\n",
    "\n",
    "# Looking for the first occurance of the pattern\n",
    "for equation in equations:\n",
    "    if re.findall(pattern, equation):\n",
    "        print(equation)\n",
    "        break\n",
    "\n",
    "# Discard equations that contain the pattern\n",
    "equations = [x for x in tqdm(equations) if not re.findall(pattern, x)]\n",
    "\n",
    "# Print a preview\n",
    "print_preview(equations)"
   ]
  },
  {
   "cell_type": "markdown",
   "metadata": {},
   "source": [
    "Discard equations that have invalid solutions. Then, sort by solution."
   ]
  },
  {
   "cell_type": "code",
   "execution_count": 99,
   "metadata": {},
   "outputs": [
    {
     "name": "stderr",
     "output_type": "stream",
     "text": [
      "100%|██████████| 103500/103500 [00:01<00:00, 85037.41it/s]"
     ]
    },
    {
     "name": "stdout",
     "output_type": "stream",
     "text": [
      "First elements:\t[('0-999', -999), ('1-999', -998), ('0-998', -998), ('1-998', -997), ('2-999', -997)]\n",
      "Random elements:[('42+57', 99), ('78*19', 1482), ('12-75', -63), ('15-74', -59), ('139+2', 141)]\n",
      "Last elements:\t[('99*97', 9603), ('98*98', 9604), ('98*99', 9702), ('99*98', 9702), ('99*99', 9801)]\n",
      "Length:\t\t79,145\n"
     ]
    },
    {
     "name": "stderr",
     "output_type": "stream",
     "text": [
      "\n"
     ]
    }
   ],
   "source": [
    "# Create a temporary list\n",
    "temp = []\n",
    "\n",
    "# Append equations with valid solutions to 'temp' list\n",
    "for equation in tqdm(equations):\n",
    "    solution = solve(equation)\n",
    "\n",
    "    if solution:\n",
    "        temp.append((equation, solution))\n",
    "\n",
    "# Sort by solution\n",
    "equations = sorted(temp, key=lambda x: x[1])\n",
    "\n",
    "# Print a preview\n",
    "print_preview(equations)"
   ]
  },
  {
   "cell_type": "markdown",
   "metadata": {},
   "source": [
    "Check the generated equations against their solutions, making use of Python's built in function `eval()`."
   ]
  },
  {
   "cell_type": "code",
   "execution_count": 100,
   "metadata": {},
   "outputs": [
    {
     "name": "stderr",
     "output_type": "stream",
     "text": [
      "100%|██████████| 79145/79145 [00:00<00:00, 141276.66it/s]\n"
     ]
    }
   ],
   "source": [
    "for equation, solution in tqdm(equations):\n",
    "    if eval(equation) != solution:\n",
    "        print(f\"{equation} = {solution}\")\n",
    "        break"
   ]
  },
  {
   "cell_type": "markdown",
   "metadata": {},
   "source": [
    "Store the equations and solutions in a `.csv` file."
   ]
  },
  {
   "cell_type": "code",
   "execution_count": 101,
   "metadata": {},
   "outputs": [
    {
     "name": "stderr",
     "output_type": "stream",
     "text": [
      "Writing equations to csv: 100%|██████████| 79145/79145 [00:00<00:00, 297202.44it/s]\n"
     ]
    }
   ],
   "source": [
    "write_csv(EQUATIONS_FILEPATH, equations)"
   ]
  }
 ],
 "metadata": {
  "interpreter": {
   "hash": "2be5faf79681da6f2a61fdfdd5405d65d042280f7fba6178067603e3a2925119"
  },
  "kernelspec": {
   "display_name": "Python 3.10.1 64-bit",
   "language": "python",
   "name": "python3"
  },
  "language_info": {
   "codemirror_mode": {
    "name": "ipython",
    "version": 3
   },
   "file_extension": ".py",
   "mimetype": "text/x-python",
   "name": "python",
   "nbconvert_exporter": "python",
   "pygments_lexer": "ipython3",
   "version": "3.10.1"
  },
  "orig_nbformat": 4
 },
 "nbformat": 4,
 "nbformat_minor": 2
}
